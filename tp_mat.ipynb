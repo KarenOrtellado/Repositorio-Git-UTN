{
  "nbformat": 4,
  "nbformat_minor": 0,
  "metadata": {
    "colab": {
      "provenance": [],
      "include_colab_link": true
    },
    "kernelspec": {
      "name": "python3",
      "display_name": "Python 3"
    },
    "language_info": {
      "name": "python"
    }
  },
  "cells": [
    {
      "cell_type": "markdown",
      "metadata": {
        "id": "view-in-github",
        "colab_type": "text"
      },
      "source": [
        "<a href=\"https://colab.research.google.com/github/KarenOrtellado/Repositorio-Git-UTN/blob/master/tp_mat.ipynb\" target=\"_parent\"><img src=\"https://colab.research.google.com/assets/colab-badge.svg\" alt=\"Open In Colab\"/></a>"
      ]
    },
    {
      "cell_type": "code",
      "source": [
        "def decimal_a_binario(numero):\n",
        "    binario = \"\"                                                # Se inicia una variable vacia para almacenar el numero\n",
        "    if numero == 0:                                             # Se agrega la condición que si el numero es 0, devuelve 0\n",
        "        return \"0\"\n",
        "\n",
        "    if numero < 0:\n",
        "        return 'Error'\n",
        "\n",
        "    while numero > 0:                                           # Se crea el bucle para los numeros introducidos\n",
        "        resto = numero % 2                                      # Se obtiene el resto del numero\n",
        "        binario = str(resto) + binario                          # Agregar el digito al principio\n",
        "        numero = numero // 2                                    # Dividir el número por 2 entero\n",
        "    return binario                                              # Se retorna en binario\n",
        "\n",
        "def binario_a_decimal(numero):\n",
        "\n",
        "\n",
        "    lista = []                                                  # Este proceso limpia el numero para que solo queden 0 y 1\n",
        "    for _ in range(len(numero)):\n",
        "        if numero[_] == '1':\n",
        "            lista.append('1')\n",
        "        if numero[_] == '0':\n",
        "            lista.append('0')\n",
        "        else:\n",
        "            pass\n",
        "\n",
        "    numero = ''.join(lista)                                     # Luego de recorrer el input junta el array y lo asigna a la variable numero\n",
        "\n",
        "\n",
        "    decimal = 0                                                 # Se inicia la variable decimal el 0\n",
        "    potencia = 0                                                # Se inicia la variable potencia el 0\n",
        "    indice = len(numero) - 1                                    # Se toma el ultimo digito para iniciar por ese digito\n",
        "    while indice >= 0:                                          # Se crea el bucle\n",
        "        digito = numero[indice]                                 # Sacamos el dígito en esa posición\n",
        "        if digito == \"1\":\n",
        "            decimal = decimal + (2 ** potencia)                 # Si el digito es 1, se realiza la siguiente ecuacion\n",
        "        potencia = potencia + 1                                 # Se agrega 1 a potencia para que en cada pasada del bucle, haga la suma correcta\n",
        "        indice = indice - 1                                     # Se corre el indice para en cada pasada del bucle ir con el numero siguiente\n",
        "    return numero, decimal                                      # Se retorna en decimal\n",
        "\n",
        "def suma_de_binario(numero, numero1):\n",
        "    binario, decimal = binario_a_decimal(numero)\n",
        "    binario_a, decimal_a = binario_a_decimal(numero1)\n",
        "    suma = decimal + decimal_a\n",
        "    suma = decimal_a_binario(suma)\n",
        "    return f\"La resta de {binario} y {binario_a} es {suma}\"\n",
        "\n",
        "def resta_de_binario(numero, numero1):\n",
        "    binario, decimal = binario_a_decimal(numero)\n",
        "    binario_a, decimal_a = binario_a_decimal(numero1)\n",
        "    resta = decimal - decimal_a\n",
        "    resta = decimal_a_binario(resta)\n",
        "    return f\"La resta de {binario} y {binario_a} es {resta}\"\n",
        "\n",
        "numero_decimal = int(input(\"Ingrese el número en decimal: \"))   # Pedimos el número afuera de la función, lo almacenamos en una variable\n",
        "resultado = decimal_a_binario(numero_decimal)                   # Llamamos a la función y mostramos el resultado donde el parametro es la variable ingresada por el usuario\n",
        "print(f\"El binario es: {resultado}\")\n",
        "\n",
        "binario = input(\"Ingrese un número binario: \")\n",
        "numero, resultado = binario_a_decimal(binario)\n",
        "print(f\"El {numero} decimal es: {resultado}\")\n",
        "\n",
        "a = input('Ingrese un numero binario para la operacion: ')\n",
        "b = input('Ingrese otro numero binario: ')\n",
        "\n",
        "suma = suma_de_binario(a, b)\n",
        "print(suma)\n",
        "resta = resta_de_binario(a, b)\n",
        "print(resta)"
      ],
      "metadata": {
        "id": "ajqg3-j4HRI6",
        "colab": {
          "base_uri": "https://localhost:8080/"
        },
        "outputId": "eb66c878-c4f3-4fe6-fcfd-004eb47d98d0"
      },
      "execution_count": null,
      "outputs": [
        {
          "output_type": "stream",
          "name": "stdout",
          "text": [
            "Ingrese el número en decimal: 654656\n",
            "El binario es: 10011111110101000000\n",
            "Ingrese un número binario: 4464561111131\n",
            "El 111111 decimal es: 63\n",
            "Ingrese un número binario para la operacion: 11313231132\n",
            "Ingrese otro número binario: 1231231231231\n",
            "La resta de 11111 y 11111 es 111110\n",
            "La resta de 11111 y 11111 es 0\n"
          ]
        }
      ]
    },
    {
      "cell_type": "markdown",
      "source": [],
      "metadata": {
        "id": "HN40hQ6VHRoH"
      }
    },
    {
      "cell_type": "code",
      "source": [],
      "metadata": {
        "id": "n8tYNemkQHqB"
      },
      "execution_count": null,
      "outputs": []
    },
    {
      "cell_type": "code",
      "execution_count": null,
      "metadata": {
        "id": "pTiZs9u-HNse"
      },
      "outputs": [],
      "source": []
    }
  ]
}